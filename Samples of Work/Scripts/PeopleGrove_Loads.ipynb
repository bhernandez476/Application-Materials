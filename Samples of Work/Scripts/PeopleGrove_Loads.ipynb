{
 "cells": [
  {
   "attachments": {},
   "cell_type": "markdown",
   "metadata": {},
   "source": [
    "The following notebook documents the procedures for integrating Qualtrics data into PeopleGrove."
   ]
  },
  {
   "cell_type": "code",
   "execution_count": null,
   "metadata": {},
   "outputs": [],
   "source": [
    "# install and load packages\n",
    "import os\n",
    "\n",
    "# pip install datetime\n",
    "from datetime import datetime, timedelta\n",
    "\n",
    "# pip install pandas\n",
    "import pandas as pd\n",
    "\n",
    "# pip install numpy\n",
    "import numpy as np\n",
    "\n",
    "# pip install QualtricsAPI \n",
    "from QualtricsAPI import Credentials\n",
    "from QualtricsAPI.Survey import Responses\n",
    "\n",
    "# call the qualtrics_api_credentials() to authenticate account\n",
    "Credentials().qualtrics_api_credentials(token = \"Jc9vraFFrDBsaiJQGjvn32yjtMOrehmT9uYWjkT6\", data_center = \"iad1\")\n",
    "\n",
    "# pip install unidecode\n",
    "import unidecode\n",
    "\n",
    "# pip install logging boto3\n",
    "import logging\n",
    "import boto3\n",
    "from botocore.exceptions import ClientError"
   ]
  },
  {
   "cell_type": "markdown",
   "metadata": {},
   "source": [
    "## Import Data"
   ]
  },
  {
   "cell_type": "code",
   "execution_count": 80,
   "metadata": {},
   "outputs": [],
   "source": [
    "# survey id can be found in Qualtrics > Profile > Survey Ids\n",
    "surveyid = \"\" # add survey id as string\n",
    "\n",
    "# import data from the Qualtrics intake form\n",
    "intake = Responses().get_survey_responses(survey = surveyid, useLabels = True)\n",
    "\n",
    "# cast to a pandas dataframe\n",
    "intake = pd.DataFrame(intake)\n",
    "\n",
    "# remove the second row of data\n",
    "# this contains metadata from Qualtrics\n",
    "intake = intake.drop([0,1], axis = \"index\")\n",
    "\n",
    "# view the first 10 cases\n",
    "#intake.head(10)"
   ]
  },
  {
   "attachments": {},
   "cell_type": "markdown",
   "metadata": {},
   "source": [
    "Format the intake form according to PeopleGrove Import File Format.xlsx. Start by getting a subset of columns and rows."
   ]
  },
  {
   "cell_type": "code",
   "execution_count": 82,
   "metadata": {},
   "outputs": [],
   "source": [
    "intake = intake[['RecordedDate', 'ResponseId', 'DistributionChannel', \n",
    "                 'name_drop', 'firstname_text', 'lastname_text', 'email', \n",
    "                 'status', 'gradfac', 'gradfac_3_TEXT', \n",
    "                 'match_type_1', 'match_type_2', 'nmatch', 'nmatch_4_TEXT', \n",
    "                 'broad', 'broad_26_TEXT', 'specific', \n",
    "                 'scale_1', 'scale_2', 'scale_3', 'scale_4', 'scale_5',\n",
    "                 'apply_program_1', 'apply_program_2', 'apply_program_4', 'apply_program_4_TEXT', \n",
    "                 'apply_when', 'apply_when_5_TEXT', \n",
    "                 'broad2', 'broad2_26_TEXT', \n",
    "                 'broad_all_14', 'broad_all_15', 'broad_all_16',\n",
    "                 'broad_all_17', 'broad_all_18', 'broad_all_19', 'broad_all_20',\n",
    "                 'broad_all_21', 'broad_all_22', 'broad_all_23', 'broad_all_24',\n",
    "                 'broad_all_25', 'broad_all_26', 'broad_all_26_TEXT', 'specific2',\n",
    "                 'firstgen_1', 'firstgen_2',\n",
    "                 'international', 'international_3_TEXT', \n",
    "                 'race_1', 'race_2', 'race_3', 'race_4', 'race_5', 'race_6', \n",
    "                 'race_7', 'race_8', 'race_8_TEXT',\n",
    "                 'gender', 'gender_4_TEXT', \n",
    "                 'disability', 'disability_3_TEXT',\n",
    "                 'id_matching_1', 'id_matching_2', 'id_matching_3', 'id_matching_4',\n",
    "                 'id_matching_5', 'id_matching_6', 'id_matching_7', 'id_matching_7_TEXT', \n",
    "                 'id_matching_text']]"
   ]
  },
  {
   "attachments": {},
   "cell_type": "markdown",
   "metadata": {},
   "source": [
    "Remove cases before the last load date and time. Loads occur daily at 23:59:59. The code below will only keep cases that happened after the last load so after 24 hours ago. "
   ]
  },
  {
   "cell_type": "code",
   "execution_count": 83,
   "metadata": {},
   "outputs": [],
   "source": [
    "# create a function to 1\n",
    "# recast from a string to datetime format 2\n",
    "# return the string with the new format 3\n",
    "def cast_datetime(string): # 1\n",
    "    string_recast = datetime.strptime(string, '%Y-%m-%d %H:%M:%S') # 2\n",
    "    return string_recast # 3\n",
    "\n",
    "# apply the function to the date column\n",
    "intake['date'] = intake['RecordedDate'].apply(cast_datetime)"
   ]
  },
  {
   "cell_type": "code",
   "execution_count": 84,
   "metadata": {},
   "outputs": [],
   "source": [
    "# get the current date\n",
    "current_datetime = datetime.now()\n",
    "\n",
    "# get the time change to 24 ago\n",
    "last_24 = timedelta(hours = 24)\n",
    "\n",
    "# print the date & time for 24 hours ago in the same structure as current date and intake['date']\n",
    "last_24_datetime = datetime.strftime(current_datetime - last_24, '%Y-%m-%d %H:%M:%S')\n",
    "\n",
    "# only keep cases that came after 24 hours ago\n",
    "intake = intake[intake['date'] > last_24_datetime]"
   ]
  },
  {
   "attachments": {},
   "cell_type": "markdown",
   "metadata": {},
   "source": [
    "Remove preview. Responses where DistributionChannel = \"preview\" were submitted as a part of survey testing and are not valid cases. "
   ]
  },
  {
   "cell_type": "code",
   "execution_count": 85,
   "metadata": {},
   "outputs": [],
   "source": [
    "# remove preview cases\n",
    "intake = intake[intake[\"DistributionChannel\"] != \"preview\"]"
   ]
  },
  {
   "cell_type": "markdown",
   "metadata": {},
   "source": [
    "## Data Cleaning"
   ]
  },
  {
   "attachments": {},
   "cell_type": "markdown",
   "metadata": {},
   "source": [
    "### Name\n",
    "Clean name_text. Change to title case, remove accents (unicode text), and remove honorifics."
   ]
  },
  {
   "cell_type": "code",
   "execution_count": 86,
   "metadata": {},
   "outputs": [
    {
     "name": "stderr",
     "output_type": "stream",
     "text": [
      "/var/folders/jb/__4n695j15169dhq5xqgt4l40000gp/T/ipykernel_3172/2655745767.py:17: FutureWarning: The default value of regex will change from True to False in a future version.\n",
      "  intake.name_text = intake.name_text.str.replace(r\"^(Mr|Mrs|Ms|Miss|Dr)(\\. | )\", \"\", case = False)\n",
      "/var/folders/jb/__4n695j15169dhq5xqgt4l40000gp/T/ipykernel_3172/2655745767.py:18: FutureWarning: The default value of regex will change from True to False in a future version.\n",
      "  intake.name_text = intake.name_text.str.replace(r\"(, | )(Ph.D.|Ph.D|PhD|M.A.|M.A|MA|M.S.|M.S|MS)\", \"\", case = False)\n"
     ]
    }
   ],
   "source": [
    "# recast to a string\n",
    "intake.firstname_text = intake.firstname_text.astype(str)\n",
    "intake.lastname_text = intake.lastname_text.astype(str)\n",
    "\n",
    "# create a function to 1\n",
    "# make title case 2\n",
    "# remove any accents 3\n",
    "# return the cleaned text 4\n",
    "def clean(text): # 1\n",
    "    text = text.title() # 2\n",
    "    text = unidecode.unidecode(text) # 3\n",
    "    return text # 4\n",
    "\n",
    "# apply the function to the name_text column\n",
    "intake.firstname_text = intake.firstname_text.apply(clean)\n",
    "intake.lastname_text = intake.lastname_text.apply(clean)\n",
    "\n",
    "# remove honorifics\n",
    "intake.firstname_text = intake.firstname_text.str.replace(r\"^(Mr|Mrs|Ms|Miss|Dr)(\\. | )\", \"\", case = False)\n",
    "intake.lastname_text = intake.lastname_text.str.replace(r\"(, | )(Ph.D.|Ph.D|PhD|M.A.|M.A|MA|M.S.|M.S|MS)\", \"\", case = False)"
   ]
  },
  {
   "attachments": {},
   "cell_type": "markdown",
   "metadata": {},
   "source": [
    "Combine name_drop and name_text. name_drop is a variable with names of past mentors and mentees. If their name does not appear in name_drop, then they proceed to a free response question, name_text, where they can input their name. "
   ]
  },
  {
   "attachments": {},
   "cell_type": "markdown",
   "metadata": {},
   "source": [
    "Split name_drop into first and last."
   ]
  },
  {
   "cell_type": "code",
   "execution_count": 88,
   "metadata": {},
   "outputs": [
    {
     "name": "stderr",
     "output_type": "stream",
     "text": [
      "/var/folders/jb/__4n695j15169dhq5xqgt4l40000gp/T/ipykernel_3172/112371571.py:18: SettingWithCopyWarning: \n",
      "A value is trying to be set on a copy of a slice from a DataFrame\n",
      "\n",
      "See the caveats in the documentation: https://pandas.pydata.org/pandas-docs/stable/user_guide/indexing.html#returning-a-view-versus-a-copy\n",
      "  intake.first_name[row] = split_name[0] # 4\n",
      "/var/folders/jb/__4n695j15169dhq5xqgt4l40000gp/T/ipykernel_3172/112371571.py:20: SettingWithCopyWarning: \n",
      "A value is trying to be set on a copy of a slice from a DataFrame\n",
      "\n",
      "See the caveats in the documentation: https://pandas.pydata.org/pandas-docs/stable/user_guide/indexing.html#returning-a-view-versus-a-copy\n",
      "  intake.last_name[row] = split_name[1] # 6\n",
      "/var/folders/jb/__4n695j15169dhq5xqgt4l40000gp/T/ipykernel_3172/112371571.py:27: FutureWarning: The default value of regex will change from True to False in a future version.\n",
      "  intake.first_name = intake.first_name.str.replace(\"^NaN$\", \"\", case = False)\n"
     ]
    }
   ],
   "source": [
    "# cast name to string\n",
    "intake.name = intake.name_drop.astype(str)\n",
    "\n",
    "# create first and last name colums\n",
    "intake[\"first_name\"] = \"\"\n",
    "intake[\"last_name\"] = \"\"\n",
    "\n",
    "# for each row 1\n",
    "# set an object called \"name\" equal to the name 2\n",
    "# set an object called \"split_name\" equal to the split of name (split on space 1 time) 3\n",
    "# update the first_name column with the first part of the split 4\n",
    "# na's will only have one part when split, so only update last name for cases that split into 2 parts 5\n",
    "# update the last_name column with the second part of the split 6\n",
    "\n",
    "for row in intake.index: # 1\n",
    "    name = intake.name[row] # 2\n",
    "    split_name = name.split(\" \", maxsplit = 1) # 3\n",
    "    intake.first_name[row] = split_name[0] # 4\n",
    "    if len(split_name) == 2: # 5\n",
    "        intake.last_name[row] = split_name[1] # 6\n",
    "\n",
    "# cast first and last name to string\n",
    "intake.first_name = intake.first_name.astype(str)\n",
    "intake.last_name = intake.last_name.astype(str)\n",
    "\n",
    "# change nan's to blanks\n",
    "intake.first_name = intake.first_name.str.replace(\"^NaN$\", \"\", case = False)"
   ]
  },
  {
   "cell_type": "code",
   "execution_count": null,
   "metadata": {},
   "outputs": [
    {
     "name": "stderr",
     "output_type": "stream",
     "text": [
      "/var/folders/jb/__4n695j15169dhq5xqgt4l40000gp/T/ipykernel_3172/415148537.py:14: SettingWithCopyWarning: \n",
      "A value is trying to be set on a copy of a slice from a DataFrame\n",
      "\n",
      "See the caveats in the documentation: https://pandas.pydata.org/pandas-docs/stable/user_guide/indexing.html#returning-a-view-versus-a-copy\n",
      "  intake.name[row] = name # 5\n"
     ]
    }
   ],
   "source": [
    "# for each row 1\n",
    "# set an object called \"firstname\" equal to the first name text entry 2\n",
    "# set an object called \"lastname\" equal to the last name text entry 3\n",
    "# if intake.first_name (the split from the dropdown) is \"Not listed\" 4\n",
    "# then set first_name equal to the text entry (firstname) 5\n",
    "# if intake.last_name (the split from the dropdown) is \"Not listed\" 6\n",
    "# then set last_name equal to the text entry (lastname) 7\n",
    "\n",
    "for row in intake.index: # 1\n",
    "    firstname = intake.firstname_text[row] # 2\n",
    "    lastname = intake.lastname_text[row] # 3\n",
    "    if intake.first_name[row] == \"Not listed\": # 4\n",
    "        intake.first_name[row] = firstname # 5\n",
    "    if intake.last_name[row] == \"Not listed\": # 6\n",
    "        intake.last_name[row] = lastname # 7\n"
   ]
  },
  {
   "attachments": {},
   "cell_type": "markdown",
   "metadata": {},
   "source": [
    "### Email\n",
    "Email contains the email addresses of respondents. There is a validation setting on this item, meaning the response must contain an “@” symbol and a valid domain format."
   ]
  },
  {
   "cell_type": "code",
   "execution_count": 89,
   "metadata": {},
   "outputs": [
    {
     "name": "stderr",
     "output_type": "stream",
     "text": [
      "/var/folders/jb/__4n695j15169dhq5xqgt4l40000gp/T/ipykernel_3172/889663349.py:5: FutureWarning: The default value of regex will change from True to False in a future version.\n",
      "  intake.email = intake.email.str.replace(\"^NaN$\", \"\", case = False)\n"
     ]
    }
   ],
   "source": [
    "# cast to string\n",
    "intake.email = intake.email.astype(str)\n",
    "\n",
    "# change nan's to blanks\n",
    "intake.email = intake.email.str.replace(\"^NaN$\", \"\", case = False)"
   ]
  },
  {
   "attachments": {},
   "cell_type": "markdown",
   "metadata": {},
   "source": [
    "### Graduate Student or Faculty\n",
    "Mentors can be either graduate students or faculty members. The column gradfac indicates which type of mentor the respondent is."
   ]
  },
  {
   "cell_type": "code",
   "execution_count": 90,
   "metadata": {},
   "outputs": [],
   "source": [
    "# for each row 1\n",
    "# if the text response is not empty 2\n",
    "# update gradfac with the text 3\n",
    "\n",
    "for row in intake.index: # 1\n",
    "    if intake.gradfac_3_TEXT is not np.nan: # 2\n",
    "        intake.gradfac[row] == intake.gradfac_3_TEXT # 3"
   ]
  },
  {
   "attachments": {},
   "cell_type": "markdown",
   "metadata": {},
   "source": [
    "### Match type\n",
    "Mentors can elect into formal, drop-in mentoring, or both. The column match_type combines the following columns into a list:\n",
    "- match_type_1: formal mentoring\n",
    "- match_type_2: drop-in mentoring"
   ]
  },
  {
   "cell_type": "code",
   "execution_count": 91,
   "metadata": {},
   "outputs": [
    {
     "name": "stderr",
     "output_type": "stream",
     "text": [
      "/var/folders/jb/__4n695j15169dhq5xqgt4l40000gp/T/ipykernel_3172/2740286357.py:16: SettingWithCopyWarning: \n",
      "A value is trying to be set on a copy of a slice from a DataFrame\n",
      "\n",
      "See the caveats in the documentation: https://pandas.pydata.org/pandas-docs/stable/user_guide/indexing.html#returning-a-view-versus-a-copy\n",
      "  intake[\"match_type\"][row] = match_list # 7\n",
      "/var/folders/jb/__4n695j15169dhq5xqgt4l40000gp/T/ipykernel_3172/2740286357.py:16: SettingWithCopyWarning: \n",
      "A value is trying to be set on a copy of a slice from a DataFrame\n",
      "\n",
      "See the caveats in the documentation: https://pandas.pydata.org/pandas-docs/stable/user_guide/indexing.html#returning-a-view-versus-a-copy\n",
      "  intake[\"match_type\"][row] = match_list # 7\n",
      "/var/folders/jb/__4n695j15169dhq5xqgt4l40000gp/T/ipykernel_3172/2740286357.py:16: SettingWithCopyWarning: \n",
      "A value is trying to be set on a copy of a slice from a DataFrame\n",
      "\n",
      "See the caveats in the documentation: https://pandas.pydata.org/pandas-docs/stable/user_guide/indexing.html#returning-a-view-versus-a-copy\n",
      "  intake[\"match_type\"][row] = match_list # 7\n",
      "/var/folders/jb/__4n695j15169dhq5xqgt4l40000gp/T/ipykernel_3172/2740286357.py:16: SettingWithCopyWarning: \n",
      "A value is trying to be set on a copy of a slice from a DataFrame\n",
      "\n",
      "See the caveats in the documentation: https://pandas.pydata.org/pandas-docs/stable/user_guide/indexing.html#returning-a-view-versus-a-copy\n",
      "  intake[\"match_type\"][row] = match_list # 7\n",
      "/var/folders/jb/__4n695j15169dhq5xqgt4l40000gp/T/ipykernel_3172/2740286357.py:16: SettingWithCopyWarning: \n",
      "A value is trying to be set on a copy of a slice from a DataFrame\n",
      "\n",
      "See the caveats in the documentation: https://pandas.pydata.org/pandas-docs/stable/user_guide/indexing.html#returning-a-view-versus-a-copy\n",
      "  intake[\"match_type\"][row] = match_list # 7\n",
      "/var/folders/jb/__4n695j15169dhq5xqgt4l40000gp/T/ipykernel_3172/2740286357.py:16: SettingWithCopyWarning: \n",
      "A value is trying to be set on a copy of a slice from a DataFrame\n",
      "\n",
      "See the caveats in the documentation: https://pandas.pydata.org/pandas-docs/stable/user_guide/indexing.html#returning-a-view-versus-a-copy\n",
      "  intake[\"match_type\"][row] = match_list # 7\n",
      "/var/folders/jb/__4n695j15169dhq5xqgt4l40000gp/T/ipykernel_3172/2740286357.py:16: SettingWithCopyWarning: \n",
      "A value is trying to be set on a copy of a slice from a DataFrame\n",
      "\n",
      "See the caveats in the documentation: https://pandas.pydata.org/pandas-docs/stable/user_guide/indexing.html#returning-a-view-versus-a-copy\n",
      "  intake[\"match_type\"][row] = match_list # 7\n",
      "/var/folders/jb/__4n695j15169dhq5xqgt4l40000gp/T/ipykernel_3172/2740286357.py:16: SettingWithCopyWarning: \n",
      "A value is trying to be set on a copy of a slice from a DataFrame\n",
      "\n",
      "See the caveats in the documentation: https://pandas.pydata.org/pandas-docs/stable/user_guide/indexing.html#returning-a-view-versus-a-copy\n",
      "  intake[\"match_type\"][row] = match_list # 7\n",
      "/var/folders/jb/__4n695j15169dhq5xqgt4l40000gp/T/ipykernel_3172/2740286357.py:16: SettingWithCopyWarning: \n",
      "A value is trying to be set on a copy of a slice from a DataFrame\n",
      "\n",
      "See the caveats in the documentation: https://pandas.pydata.org/pandas-docs/stable/user_guide/indexing.html#returning-a-view-versus-a-copy\n",
      "  intake[\"match_type\"][row] = match_list # 7\n",
      "/var/folders/jb/__4n695j15169dhq5xqgt4l40000gp/T/ipykernel_3172/2740286357.py:16: SettingWithCopyWarning: \n",
      "A value is trying to be set on a copy of a slice from a DataFrame\n",
      "\n",
      "See the caveats in the documentation: https://pandas.pydata.org/pandas-docs/stable/user_guide/indexing.html#returning-a-view-versus-a-copy\n",
      "  intake[\"match_type\"][row] = match_list # 7\n",
      "/var/folders/jb/__4n695j15169dhq5xqgt4l40000gp/T/ipykernel_3172/2740286357.py:16: SettingWithCopyWarning: \n",
      "A value is trying to be set on a copy of a slice from a DataFrame\n",
      "\n",
      "See the caveats in the documentation: https://pandas.pydata.org/pandas-docs/stable/user_guide/indexing.html#returning-a-view-versus-a-copy\n",
      "  intake[\"match_type\"][row] = match_list # 7\n",
      "/var/folders/jb/__4n695j15169dhq5xqgt4l40000gp/T/ipykernel_3172/2740286357.py:16: SettingWithCopyWarning: \n",
      "A value is trying to be set on a copy of a slice from a DataFrame\n",
      "\n",
      "See the caveats in the documentation: https://pandas.pydata.org/pandas-docs/stable/user_guide/indexing.html#returning-a-view-versus-a-copy\n",
      "  intake[\"match_type\"][row] = match_list # 7\n",
      "/var/folders/jb/__4n695j15169dhq5xqgt4l40000gp/T/ipykernel_3172/2740286357.py:16: SettingWithCopyWarning: \n",
      "A value is trying to be set on a copy of a slice from a DataFrame\n",
      "\n",
      "See the caveats in the documentation: https://pandas.pydata.org/pandas-docs/stable/user_guide/indexing.html#returning-a-view-versus-a-copy\n",
      "  intake[\"match_type\"][row] = match_list # 7\n",
      "/var/folders/jb/__4n695j15169dhq5xqgt4l40000gp/T/ipykernel_3172/2740286357.py:16: SettingWithCopyWarning: \n",
      "A value is trying to be set on a copy of a slice from a DataFrame\n",
      "\n",
      "See the caveats in the documentation: https://pandas.pydata.org/pandas-docs/stable/user_guide/indexing.html#returning-a-view-versus-a-copy\n",
      "  intake[\"match_type\"][row] = match_list # 7\n",
      "/var/folders/jb/__4n695j15169dhq5xqgt4l40000gp/T/ipykernel_3172/2740286357.py:16: SettingWithCopyWarning: \n",
      "A value is trying to be set on a copy of a slice from a DataFrame\n",
      "\n",
      "See the caveats in the documentation: https://pandas.pydata.org/pandas-docs/stable/user_guide/indexing.html#returning-a-view-versus-a-copy\n",
      "  intake[\"match_type\"][row] = match_list # 7\n",
      "/var/folders/jb/__4n695j15169dhq5xqgt4l40000gp/T/ipykernel_3172/2740286357.py:16: SettingWithCopyWarning: \n",
      "A value is trying to be set on a copy of a slice from a DataFrame\n",
      "\n",
      "See the caveats in the documentation: https://pandas.pydata.org/pandas-docs/stable/user_guide/indexing.html#returning-a-view-versus-a-copy\n",
      "  intake[\"match_type\"][row] = match_list # 7\n"
     ]
    }
   ],
   "source": [
    "# create a new column to save the combined list 1\n",
    "# reset the index (i.e., row numbers) 2\n",
    "# for each row in the index 3\n",
    "# create an object called broad_all_list containing a list of all the broad all columns for that row # 4\n",
    "# set the exclusion criteria  # 5\n",
    "# update broad_all_list to exclude all cases that match the exclusion criteria # 6\n",
    "# set broad_all for that row to the contents of broad_all_list # 7\n",
    "\n",
    "intake[\"match_type\"] = \"\" # 1\n",
    "intake = intake.reset_index(drop = True) # 2\n",
    "\n",
    "for row in intake.index: # 3\n",
    "    match_list = intake[[\"match_type_1\", \"match_type_2\"]].iloc[row].tolist() # 4\n",
    "    exclude = [np.nan] # 5 \n",
    "    match_list = list(filter(lambda x:x not in exclude, match_list)) # 6\n",
    "    intake[\"match_type\"][row] = match_list # 7"
   ]
  },
  {
   "attachments": {},
   "cell_type": "markdown",
   "metadata": {},
   "source": [
    "### Number of matches\n",
    "The column nmatch, contains the number of mentees that mentors are willing to be formally matched with."
   ]
  },
  {
   "cell_type": "code",
   "execution_count": 92,
   "metadata": {},
   "outputs": [],
   "source": [
    "# for each row 1\n",
    "# if nmatch is 4+ 2\n",
    "# and if the open response accompanying 4+ is not missing 3\n",
    "# then replace 4+ with the text 4\n",
    "# if the text is missing 5\n",
    "# then just use 4 6\n",
    "\n",
    "for row in intake.index: # 1\n",
    "    if intake.nmatch[row] == \"4+\": # 2\n",
    "        if intake.nmatch_4_TEXT[row] is not [np.nan]: # 3\n",
    "            intake.nmatch[row] == intake.nmatch_4_TEXT # 4\n",
    "        elif intake.nmatch_4_TEXT[row] is [np.nan]: # 5\n",
    "            intake.nmatch[row] == 4 # 6"
   ]
  },
  {
   "attachments": {},
   "cell_type": "markdown",
   "metadata": {},
   "source": [
    "### Broad interest\n",
    "Mentors are asked to select their broad interest area. Mentees were forced to choose one top broad area of interest. This makes formal matching a little easier. The column broad combines mentors area of interest and mentee's top area of interest. Mentees were also allowed to select other areas of interest in the broad_all columns."
   ]
  },
  {
   "cell_type": "code",
   "execution_count": 93,
   "metadata": {},
   "outputs": [],
   "source": [
    "# update other cases with the free response text\n",
    "\n",
    "# for each row 1\n",
    "# if broad (mentors) is other 2\n",
    "# then set broad equal to broad text 3\n",
    "# if broad (mentees) is other 4\n",
    "# then set broad equal to broad text 5\n",
    "\n",
    "for row in intake.index: # 1\n",
    "    if intake.broad[row] == \"Other\": # 2\n",
    "        intake.broad[row] = intake.broad_26_TEXT # 3\n",
    "    if intake.broad2[row] == \"Other\": # 4\n",
    "        intake.broad2[row] = intake.broad2_26_TEXT # 5"
   ]
  },
  {
   "cell_type": "code",
   "execution_count": 94,
   "metadata": {},
   "outputs": [
    {
     "name": "stderr",
     "output_type": "stream",
     "text": [
      "/var/folders/jb/__4n695j15169dhq5xqgt4l40000gp/T/ipykernel_3172/3192827435.py:7: SettingWithCopyWarning: \n",
      "A value is trying to be set on a copy of a slice from a DataFrame\n",
      "\n",
      "See the caveats in the documentation: https://pandas.pydata.org/pandas-docs/stable/user_guide/indexing.html#returning-a-view-versus-a-copy\n",
      "  intake.broad[row] = intake.broad2[row] # 3\n",
      "/var/folders/jb/__4n695j15169dhq5xqgt4l40000gp/T/ipykernel_3172/3192827435.py:13: FutureWarning: The default value of regex will change from True to False in a future version.\n",
      "  intake.broad = intake.broad.str.replace(r\"^NaN$\", \"\", case = False)\n"
     ]
    }
   ],
   "source": [
    "# for each row 1\n",
    "# if they're a mentee 2\n",
    "# update broad with the mentee broad question 3\n",
    "\n",
    "for row in intake.index: # 1\n",
    "    if intake.status[row] == \"Mentee\": # 2\n",
    "        intake.broad[row] = intake.broad2[row] # 3\n",
    "\n",
    "# cast to string\n",
    "intake.broad = intake.broad.astype(str)\n",
    "\n",
    "# change nan's to blanks\n",
    "intake.broad = intake.broad.str.replace(r\"^NaN$\", \"\", case = False)"
   ]
  },
  {
   "attachments": {},
   "cell_type": "markdown",
   "metadata": {},
   "source": [
    "Combining broad_all for mentees."
   ]
  },
  {
   "cell_type": "code",
   "execution_count": 95,
   "metadata": {},
   "outputs": [],
   "source": [
    "# for each row 1\n",
    "# if the text response is not missing (this will only be the case if broad_all_26 is selected & they provided a text response) 2\n",
    "# then update broad_all_26 so instead of other, it has the text response 3\n",
    "\n",
    "for row in intake.index: # 1\n",
    "    if intake.broad_all_26_TEXT[row] is not np.nan: # 2\n",
    "        intake.broad_all_26[row] = intake.broad_all_26_TEXT[row] # 3"
   ]
  },
  {
   "cell_type": "code",
   "execution_count": 96,
   "metadata": {},
   "outputs": [
    {
     "name": "stderr",
     "output_type": "stream",
     "text": [
      "/var/folders/jb/__4n695j15169dhq5xqgt4l40000gp/T/ipykernel_3172/190296118.py:20: SettingWithCopyWarning: \n",
      "A value is trying to be set on a copy of a slice from a DataFrame\n",
      "\n",
      "See the caveats in the documentation: https://pandas.pydata.org/pandas-docs/stable/user_guide/indexing.html#returning-a-view-versus-a-copy\n",
      "  intake[\"broad_all\"][row] = broad_all_list # 7\n",
      "/var/folders/jb/__4n695j15169dhq5xqgt4l40000gp/T/ipykernel_3172/190296118.py:20: SettingWithCopyWarning: \n",
      "A value is trying to be set on a copy of a slice from a DataFrame\n",
      "\n",
      "See the caveats in the documentation: https://pandas.pydata.org/pandas-docs/stable/user_guide/indexing.html#returning-a-view-versus-a-copy\n",
      "  intake[\"broad_all\"][row] = broad_all_list # 7\n",
      "/var/folders/jb/__4n695j15169dhq5xqgt4l40000gp/T/ipykernel_3172/190296118.py:20: SettingWithCopyWarning: \n",
      "A value is trying to be set on a copy of a slice from a DataFrame\n",
      "\n",
      "See the caveats in the documentation: https://pandas.pydata.org/pandas-docs/stable/user_guide/indexing.html#returning-a-view-versus-a-copy\n",
      "  intake[\"broad_all\"][row] = broad_all_list # 7\n",
      "/var/folders/jb/__4n695j15169dhq5xqgt4l40000gp/T/ipykernel_3172/190296118.py:20: SettingWithCopyWarning: \n",
      "A value is trying to be set on a copy of a slice from a DataFrame\n",
      "\n",
      "See the caveats in the documentation: https://pandas.pydata.org/pandas-docs/stable/user_guide/indexing.html#returning-a-view-versus-a-copy\n",
      "  intake[\"broad_all\"][row] = broad_all_list # 7\n",
      "/var/folders/jb/__4n695j15169dhq5xqgt4l40000gp/T/ipykernel_3172/190296118.py:20: SettingWithCopyWarning: \n",
      "A value is trying to be set on a copy of a slice from a DataFrame\n",
      "\n",
      "See the caveats in the documentation: https://pandas.pydata.org/pandas-docs/stable/user_guide/indexing.html#returning-a-view-versus-a-copy\n",
      "  intake[\"broad_all\"][row] = broad_all_list # 7\n",
      "/var/folders/jb/__4n695j15169dhq5xqgt4l40000gp/T/ipykernel_3172/190296118.py:20: SettingWithCopyWarning: \n",
      "A value is trying to be set on a copy of a slice from a DataFrame\n",
      "\n",
      "See the caveats in the documentation: https://pandas.pydata.org/pandas-docs/stable/user_guide/indexing.html#returning-a-view-versus-a-copy\n",
      "  intake[\"broad_all\"][row] = broad_all_list # 7\n",
      "/var/folders/jb/__4n695j15169dhq5xqgt4l40000gp/T/ipykernel_3172/190296118.py:20: SettingWithCopyWarning: \n",
      "A value is trying to be set on a copy of a slice from a DataFrame\n",
      "\n",
      "See the caveats in the documentation: https://pandas.pydata.org/pandas-docs/stable/user_guide/indexing.html#returning-a-view-versus-a-copy\n",
      "  intake[\"broad_all\"][row] = broad_all_list # 7\n",
      "/var/folders/jb/__4n695j15169dhq5xqgt4l40000gp/T/ipykernel_3172/190296118.py:20: SettingWithCopyWarning: \n",
      "A value is trying to be set on a copy of a slice from a DataFrame\n",
      "\n",
      "See the caveats in the documentation: https://pandas.pydata.org/pandas-docs/stable/user_guide/indexing.html#returning-a-view-versus-a-copy\n",
      "  intake[\"broad_all\"][row] = broad_all_list # 7\n",
      "/var/folders/jb/__4n695j15169dhq5xqgt4l40000gp/T/ipykernel_3172/190296118.py:20: SettingWithCopyWarning: \n",
      "A value is trying to be set on a copy of a slice from a DataFrame\n",
      "\n",
      "See the caveats in the documentation: https://pandas.pydata.org/pandas-docs/stable/user_guide/indexing.html#returning-a-view-versus-a-copy\n",
      "  intake[\"broad_all\"][row] = broad_all_list # 7\n",
      "/var/folders/jb/__4n695j15169dhq5xqgt4l40000gp/T/ipykernel_3172/190296118.py:20: SettingWithCopyWarning: \n",
      "A value is trying to be set on a copy of a slice from a DataFrame\n",
      "\n",
      "See the caveats in the documentation: https://pandas.pydata.org/pandas-docs/stable/user_guide/indexing.html#returning-a-view-versus-a-copy\n",
      "  intake[\"broad_all\"][row] = broad_all_list # 7\n",
      "/var/folders/jb/__4n695j15169dhq5xqgt4l40000gp/T/ipykernel_3172/190296118.py:20: SettingWithCopyWarning: \n",
      "A value is trying to be set on a copy of a slice from a DataFrame\n",
      "\n",
      "See the caveats in the documentation: https://pandas.pydata.org/pandas-docs/stable/user_guide/indexing.html#returning-a-view-versus-a-copy\n",
      "  intake[\"broad_all\"][row] = broad_all_list # 7\n",
      "/var/folders/jb/__4n695j15169dhq5xqgt4l40000gp/T/ipykernel_3172/190296118.py:20: SettingWithCopyWarning: \n",
      "A value is trying to be set on a copy of a slice from a DataFrame\n",
      "\n",
      "See the caveats in the documentation: https://pandas.pydata.org/pandas-docs/stable/user_guide/indexing.html#returning-a-view-versus-a-copy\n",
      "  intake[\"broad_all\"][row] = broad_all_list # 7\n",
      "/var/folders/jb/__4n695j15169dhq5xqgt4l40000gp/T/ipykernel_3172/190296118.py:20: SettingWithCopyWarning: \n",
      "A value is trying to be set on a copy of a slice from a DataFrame\n",
      "\n",
      "See the caveats in the documentation: https://pandas.pydata.org/pandas-docs/stable/user_guide/indexing.html#returning-a-view-versus-a-copy\n",
      "  intake[\"broad_all\"][row] = broad_all_list # 7\n",
      "/var/folders/jb/__4n695j15169dhq5xqgt4l40000gp/T/ipykernel_3172/190296118.py:20: SettingWithCopyWarning: \n",
      "A value is trying to be set on a copy of a slice from a DataFrame\n",
      "\n",
      "See the caveats in the documentation: https://pandas.pydata.org/pandas-docs/stable/user_guide/indexing.html#returning-a-view-versus-a-copy\n",
      "  intake[\"broad_all\"][row] = broad_all_list # 7\n",
      "/var/folders/jb/__4n695j15169dhq5xqgt4l40000gp/T/ipykernel_3172/190296118.py:20: SettingWithCopyWarning: \n",
      "A value is trying to be set on a copy of a slice from a DataFrame\n",
      "\n",
      "See the caveats in the documentation: https://pandas.pydata.org/pandas-docs/stable/user_guide/indexing.html#returning-a-view-versus-a-copy\n",
      "  intake[\"broad_all\"][row] = broad_all_list # 7\n",
      "/var/folders/jb/__4n695j15169dhq5xqgt4l40000gp/T/ipykernel_3172/190296118.py:20: SettingWithCopyWarning: \n",
      "A value is trying to be set on a copy of a slice from a DataFrame\n",
      "\n",
      "See the caveats in the documentation: https://pandas.pydata.org/pandas-docs/stable/user_guide/indexing.html#returning-a-view-versus-a-copy\n",
      "  intake[\"broad_all\"][row] = broad_all_list # 7\n"
     ]
    }
   ],
   "source": [
    "# create a new column to save the combined list 1\n",
    "# reset the index (i.e., row numbers) 2\n",
    "# for each row in the index 3\n",
    "# create an object called broad_all_list containing a list of all the broad all columns for that row # 4\n",
    "# set the exclusion criteria  # 5\n",
    "# update broad_all_list to exclude all cases that match the exclusion criteria # 6\n",
    "# set broad_all for that row to the contents of broad_all_list # 7\n",
    "\n",
    "intake[\"broad_all\"] = \"\" # 1\n",
    "intake = intake.reset_index(drop = True) # 2\n",
    "\n",
    "for row in intake.index: # 3\n",
    "    broad_all_list = intake[['broad_all_14', 'broad_all_15', 'broad_all_16',\n",
    "                             'broad_all_17', 'broad_all_18', 'broad_all_19', \n",
    "                             'broad_all_20', 'broad_all_21', 'broad_all_22', \n",
    "                             'broad_all_23', 'broad_all_24', 'broad_all_25', \n",
    "                             'broad_all_26']].iloc[row].tolist() # 4\n",
    "    exclude = [np.nan] # 5 \n",
    "    broad_all_list = list(filter(lambda x:x not in exclude, broad_all_list)) # 6\n",
    "    intake[\"broad_all\"][row] = broad_all_list # 7\n"
   ]
  },
  {
   "attachments": {},
   "cell_type": "markdown",
   "metadata": {},
   "source": [
    "### Sepecific interest\n",
    "This is a free response question prompting respondents to provide the specific research area they are interested in e.g., psycholinguistics, language processing, spoken word recognition."
   ]
  },
  {
   "cell_type": "code",
   "execution_count": 97,
   "metadata": {},
   "outputs": [
    {
     "name": "stderr",
     "output_type": "stream",
     "text": [
      "/var/folders/jb/__4n695j15169dhq5xqgt4l40000gp/T/ipykernel_3172/2153405197.py:7: SettingWithCopyWarning: \n",
      "A value is trying to be set on a copy of a slice from a DataFrame\n",
      "\n",
      "See the caveats in the documentation: https://pandas.pydata.org/pandas-docs/stable/user_guide/indexing.html#returning-a-view-versus-a-copy\n",
      "  intake.specific[row] = intake.specific2[row] # 3\n"
     ]
    }
   ],
   "source": [
    "# for each row 1\n",
    "# if they're a mentee 2\n",
    "# update broad with the mentee specifc question 3\n",
    "\n",
    "for row in intake.index: # 1\n",
    "    if intake.status[row] == \"Mentee\": # 2\n",
    "        intake.specific[row] = intake.specific2[row] # 3"
   ]
  },
  {
   "attachments": {},
   "cell_type": "markdown",
   "metadata": {},
   "source": [
    "### Graduate School Readiness Scale\n",
    "The scale includes 5 items prompting mentees to consider what stage they're at in the application process. Mentees respond on a 7-point agreement scale. The questions are as follows:\n",
    "- scale_1: \"I know my long-term career plan\"\n",
    "- scale_2: \"I know I want to go to graduate school\"\n",
    "- scale_3: \"I know which research area(s) I want to study\"\n",
    "- scale_4: \"I know which school(s) I want to apply to\"\n",
    "- scale_5: \"I know the next steps I need to take in preparing my application\"\n",
    "\n",
    "Create a total score by combining responses. The scale is weighted according to the items that are most important for matching."
   ]
  },
  {
   "cell_type": "code",
   "execution_count": 98,
   "metadata": {},
   "outputs": [],
   "source": [
    "# create a function defining how to recode the scale responses\n",
    "def scale_recode(series):\n",
    "    if series == \"Strongly disagree\":\n",
    "        return 0\n",
    "    elif series == \"Disagree\":\n",
    "        return 1\n",
    "    elif series == \"Somewhat disagree\":\n",
    "        return 2\n",
    "    elif series == \"Neither agree nor disagree\":\n",
    "        return 3\n",
    "    elif series == \"Somewhat agree\":\n",
    "        return 4\n",
    "    elif series == \"Agree\":\n",
    "        return 5\n",
    "    elif series == \"Strongly agree\":\n",
    "        return 6\n",
    "\n",
    "# create a list of the columns to recode\n",
    "scale_columns = intake[['scale_1', 'scale_2', 'scale_3', 'scale_4', 'scale_5']]\n",
    "\n",
    "# for each column 1\n",
    "# apply the function 2\n",
    "for column in scale_columns: # 1\n",
    "    intake[column] = intake[column].apply(scale_recode) # 2\n"
   ]
  },
  {
   "cell_type": "code",
   "execution_count": 99,
   "metadata": {},
   "outputs": [],
   "source": [
    "intake[\"gsr_scale\"] = \"\"\n",
    "\n",
    "intake.gsr_scale = (3 * intake.scale_2) + (2 * intake.scale_3) + (2 * intake.scale_4) + (1 * intake.scale_1) + (1 * intake.scale_5)"
   ]
  },
  {
   "attachments": {},
   "cell_type": "markdown",
   "metadata": {},
   "source": [
    "### MA or PhD program\n",
    "The column apply_program contains responses to the question, \"Are you planning to apply to a Master's or Ph.D. program? (Select all that apply)\""
   ]
  },
  {
   "cell_type": "code",
   "execution_count": 100,
   "metadata": {},
   "outputs": [],
   "source": [
    "# for each row 1\n",
    "# if the text response is not missing (this will only be the case if apply_program_4 is selected & they provided a text response) 2\n",
    "# then update apply_program_4 so instead of other, it has the text response 3\n",
    "\n",
    "for row in intake.index: # 1\n",
    "    if intake.apply_program_4_TEXT[row] is not np.nan: # 2\n",
    "        intake.apply_program_4[row] = intake.apply_program_4_TEXT[row] # 3"
   ]
  },
  {
   "cell_type": "code",
   "execution_count": 101,
   "metadata": {},
   "outputs": [
    {
     "name": "stderr",
     "output_type": "stream",
     "text": [
      "/var/folders/jb/__4n695j15169dhq5xqgt4l40000gp/T/ipykernel_3172/3298733478.py:14: SettingWithCopyWarning: \n",
      "A value is trying to be set on a copy of a slice from a DataFrame\n",
      "\n",
      "See the caveats in the documentation: https://pandas.pydata.org/pandas-docs/stable/user_guide/indexing.html#returning-a-view-versus-a-copy\n",
      "  intake[\"apply_program\"][row] = apply_list # 6\n",
      "/var/folders/jb/__4n695j15169dhq5xqgt4l40000gp/T/ipykernel_3172/3298733478.py:14: SettingWithCopyWarning: \n",
      "A value is trying to be set on a copy of a slice from a DataFrame\n",
      "\n",
      "See the caveats in the documentation: https://pandas.pydata.org/pandas-docs/stable/user_guide/indexing.html#returning-a-view-versus-a-copy\n",
      "  intake[\"apply_program\"][row] = apply_list # 6\n",
      "/var/folders/jb/__4n695j15169dhq5xqgt4l40000gp/T/ipykernel_3172/3298733478.py:14: SettingWithCopyWarning: \n",
      "A value is trying to be set on a copy of a slice from a DataFrame\n",
      "\n",
      "See the caveats in the documentation: https://pandas.pydata.org/pandas-docs/stable/user_guide/indexing.html#returning-a-view-versus-a-copy\n",
      "  intake[\"apply_program\"][row] = apply_list # 6\n",
      "/var/folders/jb/__4n695j15169dhq5xqgt4l40000gp/T/ipykernel_3172/3298733478.py:14: SettingWithCopyWarning: \n",
      "A value is trying to be set on a copy of a slice from a DataFrame\n",
      "\n",
      "See the caveats in the documentation: https://pandas.pydata.org/pandas-docs/stable/user_guide/indexing.html#returning-a-view-versus-a-copy\n",
      "  intake[\"apply_program\"][row] = apply_list # 6\n",
      "/var/folders/jb/__4n695j15169dhq5xqgt4l40000gp/T/ipykernel_3172/3298733478.py:14: SettingWithCopyWarning: \n",
      "A value is trying to be set on a copy of a slice from a DataFrame\n",
      "\n",
      "See the caveats in the documentation: https://pandas.pydata.org/pandas-docs/stable/user_guide/indexing.html#returning-a-view-versus-a-copy\n",
      "  intake[\"apply_program\"][row] = apply_list # 6\n",
      "/var/folders/jb/__4n695j15169dhq5xqgt4l40000gp/T/ipykernel_3172/3298733478.py:14: SettingWithCopyWarning: \n",
      "A value is trying to be set on a copy of a slice from a DataFrame\n",
      "\n",
      "See the caveats in the documentation: https://pandas.pydata.org/pandas-docs/stable/user_guide/indexing.html#returning-a-view-versus-a-copy\n",
      "  intake[\"apply_program\"][row] = apply_list # 6\n",
      "/var/folders/jb/__4n695j15169dhq5xqgt4l40000gp/T/ipykernel_3172/3298733478.py:14: SettingWithCopyWarning: \n",
      "A value is trying to be set on a copy of a slice from a DataFrame\n",
      "\n",
      "See the caveats in the documentation: https://pandas.pydata.org/pandas-docs/stable/user_guide/indexing.html#returning-a-view-versus-a-copy\n",
      "  intake[\"apply_program\"][row] = apply_list # 6\n",
      "/var/folders/jb/__4n695j15169dhq5xqgt4l40000gp/T/ipykernel_3172/3298733478.py:14: SettingWithCopyWarning: \n",
      "A value is trying to be set on a copy of a slice from a DataFrame\n",
      "\n",
      "See the caveats in the documentation: https://pandas.pydata.org/pandas-docs/stable/user_guide/indexing.html#returning-a-view-versus-a-copy\n",
      "  intake[\"apply_program\"][row] = apply_list # 6\n",
      "/var/folders/jb/__4n695j15169dhq5xqgt4l40000gp/T/ipykernel_3172/3298733478.py:14: SettingWithCopyWarning: \n",
      "A value is trying to be set on a copy of a slice from a DataFrame\n",
      "\n",
      "See the caveats in the documentation: https://pandas.pydata.org/pandas-docs/stable/user_guide/indexing.html#returning-a-view-versus-a-copy\n",
      "  intake[\"apply_program\"][row] = apply_list # 6\n",
      "/var/folders/jb/__4n695j15169dhq5xqgt4l40000gp/T/ipykernel_3172/3298733478.py:14: SettingWithCopyWarning: \n",
      "A value is trying to be set on a copy of a slice from a DataFrame\n",
      "\n",
      "See the caveats in the documentation: https://pandas.pydata.org/pandas-docs/stable/user_guide/indexing.html#returning-a-view-versus-a-copy\n",
      "  intake[\"apply_program\"][row] = apply_list # 6\n",
      "/var/folders/jb/__4n695j15169dhq5xqgt4l40000gp/T/ipykernel_3172/3298733478.py:14: SettingWithCopyWarning: \n",
      "A value is trying to be set on a copy of a slice from a DataFrame\n",
      "\n",
      "See the caveats in the documentation: https://pandas.pydata.org/pandas-docs/stable/user_guide/indexing.html#returning-a-view-versus-a-copy\n",
      "  intake[\"apply_program\"][row] = apply_list # 6\n",
      "/var/folders/jb/__4n695j15169dhq5xqgt4l40000gp/T/ipykernel_3172/3298733478.py:14: SettingWithCopyWarning: \n",
      "A value is trying to be set on a copy of a slice from a DataFrame\n",
      "\n",
      "See the caveats in the documentation: https://pandas.pydata.org/pandas-docs/stable/user_guide/indexing.html#returning-a-view-versus-a-copy\n",
      "  intake[\"apply_program\"][row] = apply_list # 6\n",
      "/var/folders/jb/__4n695j15169dhq5xqgt4l40000gp/T/ipykernel_3172/3298733478.py:14: SettingWithCopyWarning: \n",
      "A value is trying to be set on a copy of a slice from a DataFrame\n",
      "\n",
      "See the caveats in the documentation: https://pandas.pydata.org/pandas-docs/stable/user_guide/indexing.html#returning-a-view-versus-a-copy\n",
      "  intake[\"apply_program\"][row] = apply_list # 6\n",
      "/var/folders/jb/__4n695j15169dhq5xqgt4l40000gp/T/ipykernel_3172/3298733478.py:14: SettingWithCopyWarning: \n",
      "A value is trying to be set on a copy of a slice from a DataFrame\n",
      "\n",
      "See the caveats in the documentation: https://pandas.pydata.org/pandas-docs/stable/user_guide/indexing.html#returning-a-view-versus-a-copy\n",
      "  intake[\"apply_program\"][row] = apply_list # 6\n",
      "/var/folders/jb/__4n695j15169dhq5xqgt4l40000gp/T/ipykernel_3172/3298733478.py:14: SettingWithCopyWarning: \n",
      "A value is trying to be set on a copy of a slice from a DataFrame\n",
      "\n",
      "See the caveats in the documentation: https://pandas.pydata.org/pandas-docs/stable/user_guide/indexing.html#returning-a-view-versus-a-copy\n",
      "  intake[\"apply_program\"][row] = apply_list # 6\n",
      "/var/folders/jb/__4n695j15169dhq5xqgt4l40000gp/T/ipykernel_3172/3298733478.py:14: SettingWithCopyWarning: \n",
      "A value is trying to be set on a copy of a slice from a DataFrame\n",
      "\n",
      "See the caveats in the documentation: https://pandas.pydata.org/pandas-docs/stable/user_guide/indexing.html#returning-a-view-versus-a-copy\n",
      "  intake[\"apply_program\"][row] = apply_list # 6\n"
     ]
    }
   ],
   "source": [
    "# create a new column to save the combined list 1\n",
    "# for each row in the index 2\n",
    "# create an object called broad_all_list containing a list of all the broad all columns for that row # 3\n",
    "# set the exclusion criteria  # 4\n",
    "# update broad_all_list to exclude all cases that match the exclusion criteria # 5\n",
    "# set broad_all for that row to the contents of broad_all_list # 6\n",
    "\n",
    "intake[\"apply_program\"] = \"\" # 1\n",
    "\n",
    "for row in intake.index: # 2\n",
    "    apply_list = intake[['apply_program_1', 'apply_program_2', 'apply_program_4']].iloc[row].tolist() # 3\n",
    "    exclude = [np.nan] # 4\n",
    "    apply_list = list(filter(lambda x:x not in exclude, apply_list)) # 5\n",
    "    intake[\"apply_program\"][row] = apply_list # 6"
   ]
  },
  {
   "attachments": {},
   "cell_type": "markdown",
   "metadata": {},
   "source": [
    "### Start grad school\n",
    "The column apply_when contains responses to the question, \"When do you plan to start graduate school?\""
   ]
  },
  {
   "cell_type": "code",
   "execution_count": 102,
   "metadata": {},
   "outputs": [],
   "source": [
    "# for each row 1\n",
    "# if the text response is not missing (this will only be the case if apply_when is selected & they provided a text response) 2\n",
    "# then update apply_when so instead of other, it has the text response 3\n",
    "\n",
    "for row in intake.index: # 1\n",
    "    if intake.apply_when_5_TEXT[row] is not np.nan: # 2\n",
    "        intake.apply_when[row] = intake.apply_when_5_TEXT[row] # 3"
   ]
  },
  {
   "attachments": {},
   "cell_type": "markdown",
   "metadata": {},
   "source": [
    "### First-generation college student\n",
    "The column firstgen indicates whether the person is a first-generation college student. To qualify as a first gen student, the person must have at least 1 parent or guardian who has had some college experience. "
   ]
  },
  {
   "cell_type": "code",
   "execution_count": 103,
   "metadata": {},
   "outputs": [
    {
     "name": "stderr",
     "output_type": "stream",
     "text": [
      "/var/folders/jb/__4n695j15169dhq5xqgt4l40000gp/T/ipykernel_3172/2639016497.py:14: SettingWithCopyWarning: \n",
      "A value is trying to be set on a copy of a slice from a DataFrame\n",
      "\n",
      "See the caveats in the documentation: https://pandas.pydata.org/pandas-docs/stable/user_guide/indexing.html#returning-a-view-versus-a-copy\n",
      "  intake[\"firstgen\"][row] = \"Yes\" # 4\n",
      "/var/folders/jb/__4n695j15169dhq5xqgt4l40000gp/T/ipykernel_3172/2639016497.py:18: SettingWithCopyWarning: \n",
      "A value is trying to be set on a copy of a slice from a DataFrame\n",
      "\n",
      "See the caveats in the documentation: https://pandas.pydata.org/pandas-docs/stable/user_guide/indexing.html#returning-a-view-versus-a-copy\n",
      "  intake[\"firstgen\"][row] = \"No\" # 8\n"
     ]
    }
   ],
   "source": [
    "# initate the variable 1\n",
    "# for each row 2\n",
    "# if parent/guardian 1 did not go to college & parent/guardian 2 didn't go, is N/A or missing (np.nan) 3\n",
    "# then mark as \"Yes\" to first gen 4\n",
    "# if parent/guardian 2 did not go to college & parent/guardian 1 didn't go, is N/A or missing (np.nan) 5\n",
    "# then mark as \"Yes\" to first gen 6\n",
    "# if either parent went to attended, but did not graduate or graduated 7\n",
    "# then mark as \"No\" to first gen 8\n",
    "\n",
    "intake[\"firstgen\"] = \"\" # 1\n",
    "\n",
    "for row in intake.index: # 2\n",
    "    if (intake[\"firstgen_1\"][row] == \"No college\") and (intake[\"firstgen_2\"][row] == \"No college\" or intake[\"firstgen_2\"][row] == \"NA\" or intake[\"firstgen_2\"][row] == np.nan): # 3\n",
    "         intake[\"firstgen\"][row] = \"Yes\" # 4\n",
    "    elif (intake[\"firstgen_2\"][row] == \"No college\") and (intake[\"firstgen_1\"][row] == \"No college\" or intake[\"firstgen_1\"][row] == \"NA\" or intake[\"firstgen_1\"][row] == np.nan): # 5\n",
    "         intake[\"firstgen\"][row] = \"Yes\" # 6\n",
    "    elif intake[\"firstgen_1\"][row] == \"Attended, but did not graduate\" or intake[\"firstgen_1\"][row] == \"Graduated college\" or intake[\"firstgen_2\"][row] == \"Attended, but did not graduate\" or intake[\"firstgen_2\"][row] == \"Graduated college\": # 7\n",
    "          intake[\"firstgen\"][row] = \"No\" # 8\n",
    "\n"
   ]
  },
  {
   "attachments": {},
   "cell_type": "markdown",
   "metadata": {},
   "source": [
    "### International student\n",
    "The international column contains responses to the question, \"Do you identify as an international student?"
   ]
  },
  {
   "cell_type": "code",
   "execution_count": 104,
   "metadata": {},
   "outputs": [],
   "source": [
    "# for each row 1\n",
    "# if the text response is not missing (this will only be the case if international is selected & they provided a text response) 2\n",
    "# then update international so instead of other, it has the text response 3\n",
    "\n",
    "for row in intake.index: # 1\n",
    "    if intake.international_3_TEXT[row] is not np.nan: # 2\n",
    "        intake.international[row] = intake.international_3_TEXT[row] # 3"
   ]
  },
  {
   "attachments": {},
   "cell_type": "markdown",
   "metadata": {},
   "source": [
    "### Race/Ethnicity\n",
    "The columns for race contain responses to the question, \"What race or ethnicity do you identify with?\" Respondents were able to select as many responses as applied and were also given an text-response option to self-describe their identity.\n",
    "- race_1: American Indian or Alaska Native\n",
    "- race_2: Asian\n",
    "- race_3: Black or African American\n",
    "- race_4: Hispanic, Latinx, or Spanish\n",
    "- race_5: Middle Eastern or North African\n",
    "- race_6: Native Hawaiian or Pacific Islander\n",
    "- race_7: White\n",
    "- race_8: Prefer to self-describe"
   ]
  },
  {
   "cell_type": "code",
   "execution_count": 105,
   "metadata": {},
   "outputs": [],
   "source": [
    "# for each row 1\n",
    "# if the text response is not missing (this will only be the case if international is selected & they provided a text response) 2\n",
    "# then update international so instead of other, it has the text response 3\n",
    "\n",
    "for row in intake.index: # 1\n",
    "    if intake.race_8_TEXT[row] is not np.nan: # 2\n",
    "        intake.race_8[row] = intake.race_8_TEXT[row] # 3"
   ]
  },
  {
   "cell_type": "code",
   "execution_count": 106,
   "metadata": {},
   "outputs": [
    {
     "name": "stderr",
     "output_type": "stream",
     "text": [
      "/var/folders/jb/__4n695j15169dhq5xqgt4l40000gp/T/ipykernel_3172/444834451.py:15: SettingWithCopyWarning: \n",
      "A value is trying to be set on a copy of a slice from a DataFrame\n",
      "\n",
      "See the caveats in the documentation: https://pandas.pydata.org/pandas-docs/stable/user_guide/indexing.html#returning-a-view-versus-a-copy\n",
      "  intake[\"race\"][row] = race_list # 6\n",
      "/var/folders/jb/__4n695j15169dhq5xqgt4l40000gp/T/ipykernel_3172/444834451.py:15: SettingWithCopyWarning: \n",
      "A value is trying to be set on a copy of a slice from a DataFrame\n",
      "\n",
      "See the caveats in the documentation: https://pandas.pydata.org/pandas-docs/stable/user_guide/indexing.html#returning-a-view-versus-a-copy\n",
      "  intake[\"race\"][row] = race_list # 6\n",
      "/var/folders/jb/__4n695j15169dhq5xqgt4l40000gp/T/ipykernel_3172/444834451.py:15: SettingWithCopyWarning: \n",
      "A value is trying to be set on a copy of a slice from a DataFrame\n",
      "\n",
      "See the caveats in the documentation: https://pandas.pydata.org/pandas-docs/stable/user_guide/indexing.html#returning-a-view-versus-a-copy\n",
      "  intake[\"race\"][row] = race_list # 6\n",
      "/var/folders/jb/__4n695j15169dhq5xqgt4l40000gp/T/ipykernel_3172/444834451.py:15: SettingWithCopyWarning: \n",
      "A value is trying to be set on a copy of a slice from a DataFrame\n",
      "\n",
      "See the caveats in the documentation: https://pandas.pydata.org/pandas-docs/stable/user_guide/indexing.html#returning-a-view-versus-a-copy\n",
      "  intake[\"race\"][row] = race_list # 6\n",
      "/var/folders/jb/__4n695j15169dhq5xqgt4l40000gp/T/ipykernel_3172/444834451.py:15: SettingWithCopyWarning: \n",
      "A value is trying to be set on a copy of a slice from a DataFrame\n",
      "\n",
      "See the caveats in the documentation: https://pandas.pydata.org/pandas-docs/stable/user_guide/indexing.html#returning-a-view-versus-a-copy\n",
      "  intake[\"race\"][row] = race_list # 6\n",
      "/var/folders/jb/__4n695j15169dhq5xqgt4l40000gp/T/ipykernel_3172/444834451.py:15: SettingWithCopyWarning: \n",
      "A value is trying to be set on a copy of a slice from a DataFrame\n",
      "\n",
      "See the caveats in the documentation: https://pandas.pydata.org/pandas-docs/stable/user_guide/indexing.html#returning-a-view-versus-a-copy\n",
      "  intake[\"race\"][row] = race_list # 6\n",
      "/var/folders/jb/__4n695j15169dhq5xqgt4l40000gp/T/ipykernel_3172/444834451.py:15: SettingWithCopyWarning: \n",
      "A value is trying to be set on a copy of a slice from a DataFrame\n",
      "\n",
      "See the caveats in the documentation: https://pandas.pydata.org/pandas-docs/stable/user_guide/indexing.html#returning-a-view-versus-a-copy\n",
      "  intake[\"race\"][row] = race_list # 6\n",
      "/var/folders/jb/__4n695j15169dhq5xqgt4l40000gp/T/ipykernel_3172/444834451.py:15: SettingWithCopyWarning: \n",
      "A value is trying to be set on a copy of a slice from a DataFrame\n",
      "\n",
      "See the caveats in the documentation: https://pandas.pydata.org/pandas-docs/stable/user_guide/indexing.html#returning-a-view-versus-a-copy\n",
      "  intake[\"race\"][row] = race_list # 6\n",
      "/var/folders/jb/__4n695j15169dhq5xqgt4l40000gp/T/ipykernel_3172/444834451.py:15: SettingWithCopyWarning: \n",
      "A value is trying to be set on a copy of a slice from a DataFrame\n",
      "\n",
      "See the caveats in the documentation: https://pandas.pydata.org/pandas-docs/stable/user_guide/indexing.html#returning-a-view-versus-a-copy\n",
      "  intake[\"race\"][row] = race_list # 6\n",
      "/var/folders/jb/__4n695j15169dhq5xqgt4l40000gp/T/ipykernel_3172/444834451.py:15: SettingWithCopyWarning: \n",
      "A value is trying to be set on a copy of a slice from a DataFrame\n",
      "\n",
      "See the caveats in the documentation: https://pandas.pydata.org/pandas-docs/stable/user_guide/indexing.html#returning-a-view-versus-a-copy\n",
      "  intake[\"race\"][row] = race_list # 6\n",
      "/var/folders/jb/__4n695j15169dhq5xqgt4l40000gp/T/ipykernel_3172/444834451.py:15: SettingWithCopyWarning: \n",
      "A value is trying to be set on a copy of a slice from a DataFrame\n",
      "\n",
      "See the caveats in the documentation: https://pandas.pydata.org/pandas-docs/stable/user_guide/indexing.html#returning-a-view-versus-a-copy\n",
      "  intake[\"race\"][row] = race_list # 6\n",
      "/var/folders/jb/__4n695j15169dhq5xqgt4l40000gp/T/ipykernel_3172/444834451.py:15: SettingWithCopyWarning: \n",
      "A value is trying to be set on a copy of a slice from a DataFrame\n",
      "\n",
      "See the caveats in the documentation: https://pandas.pydata.org/pandas-docs/stable/user_guide/indexing.html#returning-a-view-versus-a-copy\n",
      "  intake[\"race\"][row] = race_list # 6\n",
      "/var/folders/jb/__4n695j15169dhq5xqgt4l40000gp/T/ipykernel_3172/444834451.py:15: SettingWithCopyWarning: \n",
      "A value is trying to be set on a copy of a slice from a DataFrame\n",
      "\n",
      "See the caveats in the documentation: https://pandas.pydata.org/pandas-docs/stable/user_guide/indexing.html#returning-a-view-versus-a-copy\n",
      "  intake[\"race\"][row] = race_list # 6\n",
      "/var/folders/jb/__4n695j15169dhq5xqgt4l40000gp/T/ipykernel_3172/444834451.py:15: SettingWithCopyWarning: \n",
      "A value is trying to be set on a copy of a slice from a DataFrame\n",
      "\n",
      "See the caveats in the documentation: https://pandas.pydata.org/pandas-docs/stable/user_guide/indexing.html#returning-a-view-versus-a-copy\n",
      "  intake[\"race\"][row] = race_list # 6\n",
      "/var/folders/jb/__4n695j15169dhq5xqgt4l40000gp/T/ipykernel_3172/444834451.py:15: SettingWithCopyWarning: \n",
      "A value is trying to be set on a copy of a slice from a DataFrame\n",
      "\n",
      "See the caveats in the documentation: https://pandas.pydata.org/pandas-docs/stable/user_guide/indexing.html#returning-a-view-versus-a-copy\n",
      "  intake[\"race\"][row] = race_list # 6\n",
      "/var/folders/jb/__4n695j15169dhq5xqgt4l40000gp/T/ipykernel_3172/444834451.py:15: SettingWithCopyWarning: \n",
      "A value is trying to be set on a copy of a slice from a DataFrame\n",
      "\n",
      "See the caveats in the documentation: https://pandas.pydata.org/pandas-docs/stable/user_guide/indexing.html#returning-a-view-versus-a-copy\n",
      "  intake[\"race\"][row] = race_list # 6\n"
     ]
    }
   ],
   "source": [
    "# create a new column to save the combined list 1\n",
    "# for each row in the index 2\n",
    "# create an object called race_list containing a list of all the race columns for that row # 3\n",
    "# set the exclusion criteria  # 4\n",
    "# update race_list to exclude all cases that match the exclusion criteria # 5\n",
    "# set race for that row to the contents of race_list # 6\n",
    "\n",
    "intake[\"race\"] = \"\" # 1\n",
    "\n",
    "for row in intake.index: # 2\n",
    "    race_list = intake[['race_1', 'race_2', 'race_3', 'race_4',\n",
    "                             'race_5', 'race_6', 'race_7', 'race_8']].iloc[row].tolist() # 3\n",
    "    exclude = [np.nan] # 4\n",
    "    race_list = list(filter(lambda x:x not in exclude, race_list)) # 5\n",
    "    intake[\"race\"][row] = race_list # 6\n"
   ]
  },
  {
   "attachments": {},
   "cell_type": "markdown",
   "metadata": {},
   "source": [
    "### Gender\n",
    "The column gender contains responses to the question, \"What gender do you identify with?\" Respondents were able to select \"Male\", \"Female\", \"Non-binary\", or \"Prefer to self-describe\" where they were given an opportunity to freely describe in a text response."
   ]
  },
  {
   "cell_type": "code",
   "execution_count": 107,
   "metadata": {},
   "outputs": [],
   "source": [
    "# for each row 1\n",
    "# if the text response is not missing (this will only be the case if \"prefer to self describe\" is selected & they provided a text response) 2\n",
    "# then update gender so instead it has the text response 3\n",
    "\n",
    "for row in intake.index: # 1\n",
    "    if intake.gender_4_TEXT[row] is not np.nan: # 2\n",
    "        intake.gender[row] = intake.gender_4_TEXT[row] # 3"
   ]
  },
  {
   "attachments": {},
   "cell_type": "markdown",
   "metadata": {},
   "source": [
    "### Disability\n",
    "The column disability contains responses to the question, \"Do you identiy as having a disability?\" Respondents were able to select \"Yes\", \"No\", or \"Prefer to self-describe\" where they were given an opportunity to freely describe in a text response."
   ]
  },
  {
   "attachments": {},
   "cell_type": "markdown",
   "metadata": {},
   "source": [
    "### Matching on identity\n",
    "The id_matching columns contain the scale responses to the question \"After your research area, which aspects of your identity are most important to consider when matching you with a mentor?\" Each item is rated on a 5 point scale ranging from \"Not important\" to \"Essential.\" The items are as follows,\n",
    "- id_matching_1: Broad research area\n",
    "- id_matching_2: First-gen status\n",
    "- id_matching_3: International student status\n",
    "- id_matching_4: Race/ethnicity\n",
    "- id_matching_5: Gender identity\n",
    "- id_matching_6: Disability status\n",
    "- id_matching_7: Other\n",
    "\n",
    "id_matching_2, id_matching_3, id_matching_6 are conditionally based on responses to prior questions in the survey. These 3 items are only shown if mentees affirm that they belong to the respective identity groups. "
   ]
  },
  {
   "cell_type": "code",
   "execution_count": 108,
   "metadata": {},
   "outputs": [],
   "source": [
    "# for each row 1\n",
    "# if the text response is not missing (this will only be the case if \"prefer to self describe\" is selected & they provided a text response) 2\n",
    "# then update disability so instead it has the text response 3\n",
    "\n",
    "for row in intake.index: # 1\n",
    "    if intake.id_matching_7_TEXT[row] is not np.nan: # 2\n",
    "        intake.id_matching_7[row] = intake.id_matching_7_TEXT[row] # 3"
   ]
  },
  {
   "cell_type": "code",
   "execution_count": 109,
   "metadata": {},
   "outputs": [],
   "source": [
    "# create a function defining how to recode the scale responses\n",
    "def important_recode(series):\n",
    "    if series == \"Not important\":\n",
    "        return 0\n",
    "    elif series == \"Slightly important\":\n",
    "        return 1\n",
    "    elif series == \"Moderately important\":\n",
    "        return 2\n",
    "    elif series == \"Very important\":\n",
    "        return 3\n",
    "    elif series == \"Essential\":\n",
    "        return 4\n",
    "\n",
    "# create a list of the columns to recode\n",
    "scale_columns = intake[['id_matching_1', 'id_matching_2', 'id_matching_3', \n",
    "                        'id_matching_4', 'id_matching_5', 'id_matching_6',\n",
    "                        'id_matching_7']]\n",
    "\n",
    "# for each column 1\n",
    "# apply the function 2\n",
    "for column in scale_columns: # 1\n",
    "    intake[column] = intake[column].apply(important_recode) # 2"
   ]
  },
  {
   "cell_type": "markdown",
   "metadata": {},
   "source": [
    "## PeopleGrove Load"
   ]
  },
  {
   "cell_type": "code",
   "execution_count": 110,
   "metadata": {},
   "outputs": [],
   "source": [
    "# subset of cleaned variables to load\n",
    "intake = intake[['first_name', 'last_name', 'email', \n",
    "                 'db_key', 'status', 'gradfac', \n",
    "                 'match_type', 'nmatch',\n",
    "                 'broad', 'broad_all', 'specific',\n",
    "                 'scale_1', 'scale_2', 'scale_3', 'scale_4', 'scale_5', 'gsr_scale',\n",
    "                 'apply_program', 'apply_when',\n",
    "                 'firstgen', 'international', 'race', 'gender', 'disability',\n",
    "                 'id_matching_1', 'id_matching_2', 'id_matching_3', 'id_matching_4',\n",
    "                 'id_matching_5', 'id_matching_6', 'id_matching_7', 'id_matching_7_TEXT',\n",
    "                 'id_matching_text']]"
   ]
  },
  {
   "cell_type": "code",
   "execution_count": 111,
   "metadata": {},
   "outputs": [],
   "source": [
    "# rename variables required by PeopleGrove\n",
    "intake.rename(columns = {'first_name':'First Name', 'last_name':'Last Name', 'email':'Email',\n",
    "                         'db_key':'Data Base Key','status':'User Type',\n",
    "                         'id_matching_1': 'match_on_broad', 'id_matching_2': 'match_on_firstgen', \n",
    "                         'id_matching_3': 'match_on_international', 'id_matching_4': 'match_on_race',\n",
    "                         'id_matching_5': 'match_on_gender', 'id_matching_6': 'match_on_disability', \n",
    "                         'id_matching_7': 'match_on_other', 'id_matching_7_TEXT': 'match_on_other_text',\n",
    "                         'id_matching_text': 'match_on_text'}, inplace = True)"
   ]
  },
  {
   "cell_type": "markdown",
   "metadata": {},
   "source": [
    "Save the file to a .csv"
   ]
  },
  {
   "cell_type": "code",
   "execution_count": 117,
   "metadata": {},
   "outputs": [],
   "source": [
    "file_path = \"./Dropbox/MAGIC Mentor Network/9. Platform Management/Load Data/\"\n",
    "file_name = \"Qualtrics_to_PeopleGrove.csv\"\n",
    "\n",
    "intake.to_csv(file_path + file_name, header = True, index = False)"
   ]
  },
  {
   "cell_type": "code",
   "execution_count": null,
   "metadata": {},
   "outputs": [],
   "source": [
    "def upload_file(file_name, bucket, object_name = None):\n",
    "   \"\"\"Upload a file to an S3 bucket\n",
    "\n",
    "   :param file_name: File to upload\n",
    "   :param bucket: Bucket to upload to\n",
    "   :param object_name: S3 object name. If not specified then file_name is used\n",
    "   :return: True if file was uploaded, else False\n",
    "   \"\"\"\n",
    "   AWS_ACCESS_KEY_ID = \"\"\n",
    "   AWS_SECRET_ACCESS_KEY = \"\"\n",
    "\n",
    "   session = boto3.Session(\n",
    "     aws_access_key_id = AWS_ACCESS_KEY_ID,\n",
    "     aws_secret_access_key = AWS_SECRET_ACCESS_KEY,\n",
    "   )\n",
    "\n",
    "   # If S3 object_name was not specified, use file_name\n",
    "   if object_name is None:\n",
    "       object_name = os.path.basename(file_name)\n",
    "\n",
    "   # Upload the file\n",
    "   s3_client = session.client(\"s3\")\n",
    "\n",
    "   # s3_client = boto3.client(\"s3\")\n",
    "   try:\n",
    "      response = s3_client.upload_file(file_name, bucket, object_name)\n",
    "      # print(dir(response))\n",
    "   except ClientError as e:\n",
    "       logging.error(e)\n",
    "   return False\n",
    "   return True"
   ]
  },
  {
   "cell_type": "code",
   "execution_count": null,
   "metadata": {},
   "outputs": [],
   "source": [
    "# set the parameters\n",
    "# file_name is the same as was used to save to .csv\n",
    "# object name\n",
    "bucket_name = \"\"\n",
    "\n",
    "# here yourfile.csv is the file on local machine\n",
    "# yourfile-upload.csv is the file name with which it will be present on s3\n",
    "upload_file(file_name, bucket_name, file_name + \"-upload.csv\")"
   ]
  }
 ],
 "metadata": {
  "kernelspec": {
   "display_name": "Python 3",
   "language": "python",
   "name": "python3"
  },
  "language_info": {
   "codemirror_mode": {
    "name": "ipython",
    "version": 3
   },
   "file_extension": ".py",
   "mimetype": "text/x-python",
   "name": "python",
   "nbconvert_exporter": "python",
   "pygments_lexer": "ipython3",
   "version": "3.10.10"
  },
  "orig_nbformat": 4
 },
 "nbformat": 4,
 "nbformat_minor": 2
}
