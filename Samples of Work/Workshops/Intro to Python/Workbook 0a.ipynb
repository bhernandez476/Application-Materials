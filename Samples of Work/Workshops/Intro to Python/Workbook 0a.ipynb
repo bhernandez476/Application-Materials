{
 "cells": [
  {
   "cell_type": "markdown",
   "metadata": {},
   "source": [
    "# Workbook 0a: Intro to Python\n",
    "## Summary\n",
    "This workbook will cover:\n",
    "- Arithmatic operators\n",
    "- Objects\n",
    "- Data types\n",
    "    - Integers\n",
    "    - Floats\n",
    "    - Strings\n",
    "    - Booleans\n",
    "    - Casting\n",
    "- Data structures\n",
    "    - Lists\n",
    "    - Sets\n",
    "    - Dictionaries\n",
    "- Programming concepts\n",
    "    - Loops\n",
    "    - Functions\n",
    "- Packages\n",
    "    - NumPy\n",
    "    - Pandas\n",
    "    - OS"
   ]
  },
  {
   "cell_type": "markdown",
   "metadata": {},
   "source": [
    "## Aritmetic Operators\n",
    "Python can be used to perform operations like a calculator. These operations include:\n",
    "\n",
    "| Operator | Definition |\n",
    "| --- | --- |\n",
    "| + | addition | \n",
    "| - | subtraction |\n",
    "| * | multiplication |\n",
    "| / | division |\n",
    "| // | floor division |\n",
    "| % | modulo |\n",
    "| ** | exponation |"
   ]
  },
  {
   "cell_type": "code",
   "execution_count": 20,
   "metadata": {},
   "outputs": [
    {
     "name": "stdout",
     "output_type": "stream",
     "text": [
      "20\n",
      "20\n",
      "20\n",
      "20.0\n",
      "8\n",
      "8\n"
     ]
    }
   ],
   "source": [
    "# operations\n",
    "# print the result using the print() function\n",
    "\n",
    "print(15 + 5) # addition\n",
    "print(25 - 5) # subtraction\n",
    "print(2 * 10) # multiplication\n",
    "print(40 / 2) # division\n",
    "print(41 / 2) # division\n",
    "print(41 // 2) # floor division: divide to the nearest whole number\n",
    "print(41 % 2) # modulo: remainder after dividing\n",
    "print(2 ** 3) # exponation"
   ]
  },
  {
   "cell_type": "markdown",
   "metadata": {},
   "source": [
    "## Objects\n",
    "When performing the operations above, the values that resulted from these equations did not store in Python and therefore cannot be referenced later. Creating **objects** allows for values or other elements (e.g., text, boolean data) to be stored. They are defined by assigning an element to a case-sensitive name which can be called later with the object name. \n",
    "\n",
    "To measure the size of a desk that is 105 cm X 50 cm X 75 cm (length X width X height). Create 3 objects named length, width, and height. The values are assigned to these names using = . Once defined, the value of a given object can be printed by typing it's name or by using print().\n",
    "\n",
    "*Note*: Many Python tutorials refer to objects as variables. In this workbook a distinction is made between objects and variables because when we start working with data frames we will often use the word variable to refer to the column of a dataset. "
   ]
  },
  {
   "cell_type": "code",
   "execution_count": 1,
   "metadata": {},
   "outputs": [
    {
     "name": "stdout",
     "output_type": "stream",
     "text": [
      "50\n"
     ]
    }
   ],
   "source": [
    "# objects\n",
    "\n",
    "# define the objects\n",
    "length = 105\n",
    "width = 50\n",
    "height = 75.0\n",
    "\n",
    "width\n",
    "print(width)"
   ]
  },
  {
   "cell_type": "markdown",
   "metadata": {},
   "source": [
    "To calculate the square footage (i.e., length * width) of the desk we can use the objects we've created. We can define this operation as a new object called sqfoot. We can also use this new object, sqfoot, to convert the square footage from centimeters to inches. "
   ]
  },
  {
   "cell_type": "code",
   "execution_count": 22,
   "metadata": {},
   "outputs": [
    {
     "name": "stdout",
     "output_type": "stream",
     "text": [
      "5250\n",
      "2066.9291338582675\n"
     ]
    }
   ],
   "source": [
    "# square footage\n",
    "sqfoot = length * width\n",
    "\n",
    "print(sqfoot)\n",
    "\n",
    "# convert cm > in\n",
    "print(sqfoot/2.54)\n"
   ]
  },
  {
   "cell_type": "markdown",
   "metadata": {},
   "source": [
    "## Data Types\n",
    "### Numeric data\n",
    "To look at the data types for each object created use type(). Height returns int aka integer which is one type of **numeric** data. An **integer** is a whole number, positive or negative, without decimals. Another type of numeric data is a **float** which is a number, positive or negative, with one or more decimals.\n"
   ]
  },
  {
   "cell_type": "code",
   "execution_count": 23,
   "metadata": {},
   "outputs": [
    {
     "name": "stdout",
     "output_type": "stream",
     "text": [
      "<class 'int'>\n",
      "<class 'float'>\n"
     ]
    }
   ],
   "source": [
    "# numeric data\n",
    "print(type(width))\n",
    "print(type(height))"
   ]
  },
  {
   "cell_type": "markdown",
   "metadata": {},
   "source": [
    "### Text data\n",
    "**Text** data are represented as **strings**. Strings can be defined using single or double quotation marks.\n"
   ]
  },
  {
   "cell_type": "code",
   "execution_count": 24,
   "metadata": {},
   "outputs": [
    {
     "name": "stdout",
     "output_type": "stream",
     "text": [
      "hello\n",
      "hi\n",
      "<class 'str'>\n",
      "<class 'str'>\n"
     ]
    }
   ],
   "source": [
    "# text data\n",
    "hello = 'hello'\n",
    "hi = \"hi\"\n",
    "\n",
    "print(hello)\n",
    "print(hi)\n",
    "\n",
    "print(type(hello))\n",
    "print(type(hi))"
   ]
  },
  {
   "cell_type": "markdown",
   "metadata": {},
   "source": [
    "Multi-line strings can also be defined by using 3 double quotation marks."
   ]
  },
  {
   "cell_type": "code",
   "execution_count": 25,
   "metadata": {},
   "outputs": [
    {
     "name": "stdout",
     "output_type": "stream",
     "text": [
      "This\n",
      "is \n",
      "a \n",
      "multiline\n",
      "string\n",
      "<class 'str'>\n"
     ]
    }
   ],
   "source": [
    "# multiline string\n",
    "multiline = \"\"\"This\n",
    "is \n",
    "a \n",
    "multiline\n",
    "string\"\"\"\n",
    "\n",
    "print(multiline)\n",
    "\n",
    "print(type(multiline))"
   ]
  },
  {
   "cell_type": "markdown",
   "metadata": {},
   "source": [
    "### Boolean data\n",
    "Python can also evaluate comparisons or logical equations, for example, to check if 5 is greater than 7. Python will return this comparison with **boolean** data type, whose value is either True or False. Unlike strings, these data are not defined using quotations and are case-sensitive. "
   ]
  },
  {
   "cell_type": "code",
   "execution_count": 26,
   "metadata": {},
   "outputs": [
    {
     "name": "stdout",
     "output_type": "stream",
     "text": [
      "False\n",
      "False\n",
      "False\n",
      "<class 'bool'>\n",
      "<class 'bool'>\n",
      "<class 'str'>\n"
     ]
    }
   ],
   "source": [
    "greater1 = 5 > 7\n",
    "greater2 = False\n",
    "greater3 = \"False\"\n",
    "\n",
    "print(greater1)\n",
    "print(greater2)\n",
    "print(greater3)\n",
    "\n",
    "print(type(greater1))\n",
    "print(type(greater2))\n",
    "print(type(greater3)) # note that even though these all look the same upon printing, greater3 is not the same type as greater1 and greater2"
   ]
  },
  {
   "cell_type": "markdown",
   "metadata": {},
   "source": [
    "Other comparison operators that return boolean data include:\n",
    "\n",
    "| Operator| Definition |\n",
    "| --- | --- |\n",
    "| == | Equal To |\n",
    "| != | Not equal to |\n",
    "| > | Greater than |\n",
    "| >= | Greater than or equal to |\n",
    "| < | Less than |\n",
    "| <= | Less than or equal to |\n",
    "\n",
    "There are also logical operators:\n",
    "\n",
    "| Operator| Definition |\n",
    "| --- | --- |\n",
    "| and | True only if both operands are True |\n",
    "| or | True if at least one of the operands is True |\n",
    "| not | True if the operand is False |\n",
    "\n",
    "And membership operators:\n",
    "\n",
    "| Operator| Definition |\n",
    "| --- | --- |\n",
    "| in | True if the element is found in the sequence |\n",
    "| not in | True if the element is not found in the sequence |"
   ]
  },
  {
   "cell_type": "code",
   "execution_count": 46,
   "metadata": {},
   "outputs": [
    {
     "name": "stdout",
     "output_type": "stream",
     "text": [
      "True\n",
      "False\n",
      "True\n"
     ]
    }
   ],
   "source": [
    "# both comparison and logical operators return boolean data\n",
    "# we can also combine comparison and logical operators \n",
    "print(5 > 2 and 6 > 2)\n",
    "\n",
    "print(5 < 2 and 6 > 2)\n",
    "\n",
    "print(5 < 2 or 6 > 2)"
   ]
  },
  {
   "cell_type": "markdown",
   "metadata": {},
   "source": [
    "### Casting\n",
    "Changing the data type of an object can be done by **casting**. For example, we assigned length to 105 and because this is a whole number, it was defined as an integer. It can be cast to a float. The casting functions include:\n",
    "\n",
    "| Function | Definition |\n",
    "| --- | --- |\n",
    "| int(x) | casts x to an integer |\n",
    "| float(x) | casts x to a float |\n",
    "| str(x) | casts x to a string |\n",
    "| bool(x) | casts x to a boolean |"
   ]
  },
  {
   "cell_type": "code",
   "execution_count": 27,
   "metadata": {},
   "outputs": [
    {
     "name": "stdout",
     "output_type": "stream",
     "text": [
      "<class 'int'>\n",
      "<class 'float'>\n"
     ]
    }
   ],
   "source": [
    "# casting\n",
    "print(type(length)) # data type before casting\n",
    "\n",
    "length = float(length) # casting\n",
    "\n",
    "print(type(length)) # data type after casting"
   ]
  },
  {
   "cell_type": "markdown",
   "metadata": {},
   "source": [
    "## Data Structures\n",
    "\n",
    "### Lists\n",
    "**Lists** are collections of values of any data type e.g., numeric, text, or boolean. Typically lists contain the values of the same data type but they can also contain different types. These lists are defined by encasing the comma-seperated values in []. "
   ]
  },
  {
   "cell_type": "code",
   "execution_count": 28,
   "metadata": {},
   "outputs": [
    {
     "name": "stdout",
     "output_type": "stream",
     "text": [
      "['1', '2', '3']\n",
      "[1, 2, 3]\n",
      "[True, True, False]\n",
      "[True, 2, '3']\n",
      "<class 'list'>\n",
      "<class 'list'>\n",
      "<class 'list'>\n",
      "<class 'list'>\n",
      "False\n"
     ]
    }
   ],
   "source": [
    "list1 = [\"1\", \"2\", \"3\"]\n",
    "list2 = [1, 2, 3]\n",
    "list3 = [True, True, False]\n",
    "list4 = [True, 2, \"3\"] # we can have different data types in a single list\n",
    "\n",
    "print(list1)\n",
    "print(list2)\n",
    "print(list3)\n",
    "print(list4)\n",
    "\n",
    "print(type(list1))\n",
    "print(type(list2))\n",
    "print(type(list3))\n",
    "print(type(list4))\n",
    "\n",
    "print(list3[2])"
   ]
  },
  {
   "cell_type": "markdown",
   "metadata": {},
   "source": [
    "Lists can be **indexed** which returns the value located in a given position. Python begins indexing at 0 so, to find the first value located in list1, we would index using list1[0] which would return the string 1. Python also uses negative indexes which returns values at the end of the list. To get the last item in a list, index at -1."
   ]
  },
  {
   "cell_type": "code",
   "execution_count": 31,
   "metadata": {},
   "outputs": [
    {
     "name": "stdout",
     "output_type": "stream",
     "text": [
      "1\n",
      "<class 'str'>\n",
      "3\n"
     ]
    }
   ],
   "source": [
    "print(list1[0]) # index the first element in a list\n",
    "print(type(list1[0]))\n",
    "\n",
    "print(list1[-1]) # index the last element in a list"
   ]
  },
  {
   "cell_type": "markdown",
   "metadata": {},
   "source": [
    "Lists can be edited with various functions. To use these functions we use name.function(). These functions include:\n",
    "\n",
    "| Function | Definition |\n",
    "| --- | --- |\n",
    "| append(x) | add x to the end of a list |\n",
    "| extend([y]) | add y values to the end of a list |\n",
    "| insert(i, x) | add x to a the i position in a list |\n",
    "| remove(x) | remove the first x in a list |\n",
    "| pop(i) | remove the item in the i position |\n",
    "| index(x) | return the position of x in a list |\n",
    "| count(x) | count the number of times x appears in a list |\n",
    "| sort() | sort a list in a specific order |\n",
    "\n"
   ]
  },
  {
   "cell_type": "code",
   "execution_count": 30,
   "metadata": {},
   "outputs": [
    {
     "name": "stdout",
     "output_type": "stream",
     "text": [
      "[1, 2, 3, 4]\n",
      "[1, 2, 3, 4, 5, 6, 7]\n",
      "[4, 1, 2, 3, 4, 5, 6, 7]\n",
      "2\n",
      "[1, 2, 3, 4, 5, 6, 7]\n",
      "7\n"
     ]
    }
   ],
   "source": [
    "list2.append(4) # add a single value\n",
    "print(list2)\n",
    "\n",
    "list2.extend([5, 6, 7]) # add a list of values\n",
    "print(list2)\n",
    "\n",
    "list2.insert(0, 4) # in position 0, add a 4\n",
    "print(list2)\n",
    "print(list2.count(4)) # how many 4's are there in the list?\n",
    "\n",
    "list2.remove(4) # remove the first 4 in the list\n",
    "print(list2)"
   ]
  },
  {
   "cell_type": "markdown",
   "metadata": {},
   "source": [
    "### Sets\n",
    "**Sets** are similar to lists; they also contain collections of values. The difference being that sets cannot contain any duplicate data. Each value in a set must be completely unique from other values. Sets are defined by encasing comma-seperated values in {}. Like lists, sets can accomodate values of the same data type or mixed data types."
   ]
  },
  {
   "cell_type": "code",
   "execution_count": 36,
   "metadata": {},
   "outputs": [
    {
     "name": "stdout",
     "output_type": "stream",
     "text": [
      "{100, 101, 102, 103, 104}\n",
      "<class 'set'>\n"
     ]
    }
   ],
   "source": [
    "ids = {100, 101, 102, 103, 104, 104, 104} # note when we print this set, only one 104 is returned\n",
    "\n",
    "print(ids)\n",
    "print(type(ids))"
   ]
  },
  {
   "cell_type": "markdown",
   "metadata": {},
   "source": [
    "Sets can be edited with their own functions. To use these functions we use name.function(). These functions include:\n",
    "\n",
    "| Function | Definition |\n",
    "| --- | --- |\n",
    "| add(x) | add x to the end of a set |\n",
    "| update(y) | add y values to end of a set |\n",
    "| remove(x) | remove x from a set |"
   ]
  },
  {
   "cell_type": "code",
   "execution_count": 42,
   "metadata": {},
   "outputs": [
    {
     "name": "stdout",
     "output_type": "stream",
     "text": [
      "{100, 101, 102, 103, 104, 105, 106, 107}\n",
      "{100, 101, 102, 103, 104, 105, 106, 107, 108}\n",
      "{100, 101, 102, 103, 104, 105, 106, 107}\n"
     ]
    },
    {
     "data": {
      "text/plain": [
       "8"
      ]
     },
     "execution_count": 42,
     "metadata": {},
     "output_type": "execute_result"
    }
   ],
   "source": [
    "ids.add(105)\n",
    "print(ids)\n",
    "\n",
    "ids.update([106, 107, 108])\n",
    "print(ids)\n",
    "\n",
    "ids.remove(108)\n",
    "print(ids)\n"
   ]
  },
  {
   "cell_type": "markdown",
   "metadata": {},
   "source": [
    "### Dictionaries\n",
    "**Dictionaries** are unordered sets of value pairs. Each element defined in a dictionary maps onto a definition. When printing the element, Python will return the defintion provided in the dictionary. The example below create a dictionary defining the numbers 1 - 5 as either even or odd. Therefore, we can print a number from our dictionary and check if it is defined as even or odd."
   ]
  },
  {
   "cell_type": "code",
   "execution_count": 34,
   "metadata": {},
   "outputs": [
    {
     "name": "stdout",
     "output_type": "stream",
     "text": [
      "{1: 'odd', 2: 'even', 3: 'odd', 4: 'even', 5: 'odd'}\n",
      "odd\n",
      "{1: 'odd', 2: 'even', 3: 'odd', 4: 'even', 5: 'odd', 6: 'even'}\n"
     ]
    }
   ],
   "source": [
    "odd_even = {1 : \"odd\", 2 : \"even\", 3 : \"odd\", 4 : \"even\", 5 : \"odd\"} # create dictionary\n",
    "print(odd_even)\n",
    "\n",
    "print(odd_even[1]) # check if a value is even or odd\n",
    "\n",
    "# expand the dictionary\n",
    "odd_even[6] = \"even\"\n",
    "\n",
    "print(odd_even)"
   ]
  },
  {
   "cell_type": "markdown",
   "metadata": {},
   "source": [
    "## Programming Concepts\n",
    "### Loops\n",
    "**Loops** are for repeating code. For example, if you need to calculate a sum for multiple objects, you can loop through a list of the object names and calculate the sum for each. There are **for loops** and **while loops** which are distinguished by how the loops terminate. \n",
    "\n",
    "For loops are used when you know how many times you'd like the loop to iterate. These loops will iterate for N number of iterations. \n",
    "\n",
    "While loops are used when you do not know how many times you'd like the loop to iterate. These loops will iterate while a condition is met and will terminate when the condition is unmet."
   ]
  },
  {
   "cell_type": "code",
   "execution_count": null,
   "metadata": {},
   "outputs": [],
   "source": [
    "# calculate the sum of two objects\n",
    "# create the objects\n",
    "x = [21, 12, 35, 54, 25, 106, 17]\n",
    "y = [102, 111, 80, 93, 103, 99, 131]\n",
    "\n",
    "# manually print the sum of x and y\n",
    "print(sum(x))\n",
    "print(sum(y))\n",
    "\n",
    "xy_list = [x, y]\n",
    "\n",
    "# for loop\n",
    "for i in xy_list:\n",
    "    print(sum(i))"
   ]
  },
  {
   "cell_type": "code",
   "execution_count": null,
   "metadata": {},
   "outputs": [],
   "source": [
    "# create a list of numbers from 1 - 5\n",
    "# while loop\n",
    "i = 0\n",
    "while i < 6:\n",
    "    print(i)\n",
    "    i = i + 1"
   ]
  },
  {
   "cell_type": "markdown",
   "metadata": {},
   "source": [
    "### Functions\n",
    "Functions are blocks of reusable code that perform a task. There are **standard library functions** that are built-in to Python, such as print() have been using in this workbook. Python users can also create their own functions i.e., **user-defined functions**. For example, a user-defined function can be created to add any two numbers.\n",
    "\n",
    "Functions are comprised of inputs and outputs. Inputs are information the function needs to run while outputs are what the function produces when it is run. "
   ]
  },
  {
   "cell_type": "code",
   "execution_count": null,
   "metadata": {},
   "outputs": [],
   "source": [
    "# user-defined function to add 2 numbers\n",
    "# def initiates the function\n",
    "# addition is the name of the function for example, print is the name of the print() function\n",
    "# x and y are the inputs that need to be supplied to run the function\n",
    "# sum creates a new object that adds x and y\n",
    "# return is the output produced when the function is run\n",
    "def addition(x, y): \n",
    "    sum = x + y\n",
    "    return sum\n",
    "\n",
    "# test the function\n",
    "addition(6, 7)\n",
    "\n",
    "# the function needs both x & y inputs or it cannot run\n",
    "#addition(6) # <- if we uncomment and run addition(6) the error returned is that y is missing"
   ]
  },
  {
   "cell_type": "markdown",
   "metadata": {},
   "source": [
    "When creating our addition function, our inputs (x & y) are positional argurments, meaning the order they're supplied in is important. When we supply the inputs 6, 7 Python automatically assigns 6 to the x position and 7 to the y position which aligns to the order we placed x and y in when we defined our function. \n",
    "\n",
    "Let's create a new function to return the value in the y position. The goal is to see how the output changes when we supply our values in different orders. "
   ]
  },
  {
   "cell_type": "code",
   "execution_count": null,
   "metadata": {},
   "outputs": [],
   "source": [
    "# create another function called return y\n",
    "# we set this function to output the value supplied as y \n",
    "def return_y(x, y):\n",
    "    return y\n",
    "\n",
    "print(return_y(6, 7)) # 7 is in the y position\n",
    "\n",
    "print(return_y(7, 6)) # 7 is in the x position"
   ]
  },
  {
   "cell_type": "markdown",
   "metadata": {},
   "source": [
    "To supply the inputs in a different order than the defaults, manually assign each input to a position."
   ]
  },
  {
   "cell_type": "code",
   "execution_count": null,
   "metadata": {},
   "outputs": [],
   "source": [
    "# manually assign positions\n",
    "print(return_y(x = 6, y = 7))\n",
    "\n",
    "# now inputs can be supplied out of order\n",
    "print(return_y(y = 7, x = 6))"
   ]
  },
  {
   "cell_type": "markdown",
   "metadata": {},
   "source": [
    "To learn more about a function you can use help()."
   ]
  },
  {
   "cell_type": "code",
   "execution_count": null,
   "metadata": {},
   "outputs": [],
   "source": [
    "help(sum)"
   ]
  },
  {
   "cell_type": "markdown",
   "metadata": {},
   "source": [
    "## Packages\n",
    "**Packages** are compiled sets of user-defined functions, objects, etc. that other users can download and use. Packages we will use in this course include NumPy and Pandas.\n",
    "\n",
    "These packages can be installed in Terminal using pip3 install package_name. They are then called into Python using import package_name or import package_name as package_abbreviation. While a package only needs to be installed once, it needs to be imported every time you plan to use it. "
   ]
  },
  {
   "cell_type": "code",
   "execution_count": 47,
   "metadata": {},
   "outputs": [],
   "source": [
    "# install the packages below in terminal\n",
    "#pip3 install numpy\n",
    "#pip3 install pandas\n",
    "\n",
    "# load packages\n",
    "import numpy as np\n",
    "import pandas as pd"
   ]
  },
  {
   "cell_type": "markdown",
   "metadata": {},
   "source": [
    "### NumPy\n",
    "NumPy is a Python package for scientific computing. The complete user guide can be found [here](https://numpy.org/devdocs/user/index.html).\n",
    "\n",
    "One feature of this package is that it incorporates **arrays** which are similar to lists. However, unlike a list, arrays can only be of a single data type. "
   ]
  },
  {
   "cell_type": "code",
   "execution_count": 51,
   "metadata": {},
   "outputs": [
    {
     "name": "stdout",
     "output_type": "stream",
     "text": [
      "[1 2 3 4 5 6]\n",
      "['1' '2' '3' '4' '5' '6']\n",
      "['1' '2' '3' '4' '5' '6']\n"
     ]
    }
   ],
   "source": [
    "x = np.array([1, 2, 3, 4, 5, 6])\n",
    "y = np.array([\"1\", \"2\", \"3\", \"4\", \"5\", \"6\"])\n",
    "z = np.array([1, 2, 3, \"4\", \"5\", \"6\"])\n",
    "\n",
    "print(x)\n",
    "print(y)\n",
    "print(z) # note all the elements in z were coerced to a string"
   ]
  },
  {
   "cell_type": "markdown",
   "metadata": {},
   "source": [
    "Lists and sets are both one-dimensional. NumPy's array command can also incorporate two-dimensional data i.e., **matrices**. "
   ]
  },
  {
   "cell_type": "code",
   "execution_count": 57,
   "metadata": {},
   "outputs": [
    {
     "name": "stdout",
     "output_type": "stream",
     "text": [
      "[[1 2]\n",
      " [3 4]\n",
      " [5 6]]\n",
      "6\n"
     ]
    }
   ],
   "source": [
    "matrix = np.array([[1, 2], [3, 4], [5, 6]])\n",
    "\n",
    "print(matrix)\n",
    "\n",
    "# now we index with 2 numbers, 1 for each dimension (row X column)\n",
    "print(matrix[2, 1]) # print the value in the 3rd row, 2nd column (remember indexing starts at 0)"
   ]
  },
  {
   "cell_type": "markdown",
   "metadata": {},
   "source": [
    "### Pandas\n",
    "Pandas is a Python package for data analysis and manipulation. The complete user guide can be found [here](https://pandas.pydata.org/docs/user_guide/index.html#user-guide).\n",
    "\n",
    "One feature of this package is it incorporates the use of **data frames** which are like a matrix (i.e., two-dimensional array) but with features like column names and row numbers. These column names refer to **variables** in a data set, i.e., Name, Age, MathScore. Variables contain data of the same type. "
   ]
  },
  {
   "cell_type": "code",
   "execution_count": 63,
   "metadata": {},
   "outputs": [
    {
     "name": "stdout",
     "output_type": "stream",
     "text": [
      "       Name  Age  MathScore\n",
      "0  Person 1   25       10.2\n",
      "1  Person 2   26       12.4\n",
      "2  Person 3   27       15.0\n",
      "0    Person 1\n",
      "1    Person 2\n",
      "2    Person 3\n",
      "Name: Name, dtype: object\n"
     ]
    }
   ],
   "source": [
    "data = pd.DataFrame(\n",
    "    {\n",
    "        \"Name\": [\"Person 1\", \"Person 2\", \"Person 3\"],\n",
    "        \"Age\": [25, 26, 27],\n",
    "        \"MathScore\": [10.2, 12.4, 15],\n",
    "    }\n",
    ")\n",
    "\n",
    "print(data)\n",
    "\n",
    "# we can index using variable names\n",
    "print(data[\"Name\"])"
   ]
  },
  {
   "cell_type": "code",
   "execution_count": 60,
   "metadata": {},
   "outputs": [
    {
     "name": "stdout",
     "output_type": "stream",
     "text": [
      "   0  1\n",
      "0  1  2\n",
      "1  3  4\n",
      "2  5  6\n"
     ]
    }
   ],
   "source": [
    "# we can also take the matrix we made earlier and coerce it to a data frame\n",
    "data2 = pd.DataFrame(matrix)\n",
    "\n",
    "print(data2)"
   ]
  }
 ],
 "metadata": {
  "kernelspec": {
   "display_name": "Python 3 (ipykernel)",
   "language": "python",
   "name": "python3"
  },
  "language_info": {
   "codemirror_mode": {
    "name": "ipython",
    "version": 3
   },
   "file_extension": ".py",
   "mimetype": "text/x-python",
   "name": "python",
   "nbconvert_exporter": "python",
   "pygments_lexer": "ipython3",
   "version": "3.10.7 (v3.10.7:6cc6b13308, Sep  5 2022, 14:02:52) [Clang 13.0.0 (clang-1300.0.29.30)]"
  },
  "vscode": {
   "interpreter": {
    "hash": "aee8b7b246df8f9039afb4144a1f6fd8d2ca17a180786b69acc140d282b71a49"
   }
  }
 },
 "nbformat": 4,
 "nbformat_minor": 2
}
